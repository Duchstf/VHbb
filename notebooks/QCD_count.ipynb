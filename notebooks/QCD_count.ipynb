{
 "cells": [
  {
   "cell_type": "code",
   "execution_count": 1,
   "metadata": {},
   "outputs": [
    {
     "name": "stderr",
     "output_type": "stream",
     "text": [
      "/uscms_data/d3/dhoang/miniforge3/envs/vhbb/lib/python3.9/site-packages/coffea/util.py:154: FutureWarning: In coffea version v2023.3.0 (target date: 31 Mar 2023), this will be an error.\n",
      "(Set coffea.deprecations_as_errors = True to get a stack trace now.)\n",
      "ImportError: coffea.hist is deprecated\n",
      "  warnings.warn(message, FutureWarning)\n"
     ]
    }
   ],
   "source": [
    "import json\n",
    "import sys\n",
    "import matplotlib.pyplot as plt\n",
    "from matplotlib.pyplot import cm\n",
    "import mplhep as hep\n",
    "plt.style.use(hep.style.ROOT)\n",
    "\n",
    "import matplotlib.pylab as pylab\n",
    "params = {'legend.fontsize': 'medium',\n",
    "         'axes.labelsize': 'x-large',\n",
    "         'axes.titlesize':'x-large',\n",
    "         'xtick.labelsize':'medium',\n",
    "         'ytick.labelsize':'medium'}\n",
    "pylab.rcParams.update(params)\n",
    "\n",
    "#line thickness\n",
    "# import matplotlib as mpl\n",
    "# mpl.rcParams['lines.linewidth'] = 5\n",
    "\n",
    "from coffea import hist\n",
    "import pickle\n",
    "\n",
    "import numpy as np\n",
    "\n",
    "#Dataset parameters\n",
    "lumis = {}\n",
    "lumis['2016'] = 16.81\n",
    "lumis['2016APV'] = 19.52\n",
    "lumis['2017'] = 41.5\n",
    "lumis['2018'] = 59.9"
   ]
  },
  {
   "cell_type": "code",
   "execution_count": 60,
   "metadata": {},
   "outputs": [],
   "source": [
    "year=2016\n",
    "signal_pickle_path=f'/uscms_data/d3/dhoang/VH_analysis/CMSSW_10_2_13/src/VHbb/output/pickle/vhbb_official/{year}/h.pkl'"
   ]
  },
  {
   "cell_type": "code",
   "execution_count": 61,
   "metadata": {},
   "outputs": [],
   "source": [
    "pickle_hist = pickle.load(open(signal_pickle_path,'rb')).integrate('region','signal').integrate('qcd2', slice(0., 0.0741)).integrate('pt1', slice(450, None), overflow='over').integrate('systematic', 'nominal')"
   ]
  },
  {
   "cell_type": "code",
   "execution_count": 62,
   "metadata": {},
   "outputs": [
    {
     "data": {
      "text/plain": [
       "{('QCD',): 101274.2662401504,\n",
       " ('ttbar',): 1800.0157457215582,\n",
       " ('singlet',): 278.72825989760736,\n",
       " ('Wjets',): 6258.508528008959,\n",
       " ('WLNu',): 301.9602526473308,\n",
       " ('Zjets',): 2062.114415795012,\n",
       " ('VV',): 208.7238309083191,\n",
       " ('ggF',): 1.4666277458364267,\n",
       " ('VBFDipoleRecoilOn',): 0.4517280777828355,\n",
       " ('WH',): 7.66342312528616,\n",
       " ('ZH',): 4.591099800099293,\n",
       " ('ttH',): 0.6831978945296506,\n",
       " ('data',): 86461.0}"
      ]
     },
     "execution_count": 62,
     "metadata": {},
     "output_type": "execute_result"
    }
   ],
   "source": [
    "pickle_hist.sum(*['genflavor1', 'bb1', 'msd1', 'msd2'], overflow='all').values()"
   ]
  },
  {
   "cell_type": "code",
   "execution_count": 35,
   "metadata": {},
   "outputs": [
    {
     "data": {
      "text/plain": [
       "{(): array(2430670.01626683)}"
      ]
     },
     "execution_count": 35,
     "metadata": {},
     "output_type": "execute_result"
    }
   ],
   "source": [
    "QCD_yield"
   ]
  },
  {
   "cell_type": "code",
   "execution_count": null,
   "metadata": {},
   "outputs": [],
   "source": []
  }
 ],
 "metadata": {
  "kernelspec": {
   "display_name": "vhbb",
   "language": "python",
   "name": "python3"
  },
  "language_info": {
   "codemirror_mode": {
    "name": "ipython",
    "version": 3
   },
   "file_extension": ".py",
   "mimetype": "text/x-python",
   "name": "python",
   "nbconvert_exporter": "python",
   "pygments_lexer": "ipython3",
   "version": "3.9.19"
  }
 },
 "nbformat": 4,
 "nbformat_minor": 2
}
