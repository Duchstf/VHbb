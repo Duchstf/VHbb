{
 "cells": [
  {
   "cell_type": "code",
   "execution_count": 1,
   "metadata": {},
   "outputs": [
    {
     "name": "stderr",
     "output_type": "stream",
     "text": [
      "/opt/conda/lib/python3.8/site-packages/coffea/util.py:154: FutureWarning: In coffea version v2023.3.0 (target date: 31 Mar 2023), this will be an error.\n",
      "(Set coffea.deprecations_as_errors = True to get a stack trace now.)\n",
      "ImportError: coffea.hist is deprecated\n",
      "  warnings.warn(message, FutureWarning)\n"
     ]
    }
   ],
   "source": [
    "import json\n",
    "import pickle\n",
    "\n",
    "from plotter import *\n",
    "\n",
    "import matplotlib\n",
    "matplotlib.rcParams.update({'font.size': 18})\n",
    "\n",
    "import warnings\n",
    "warnings.filterwarnings('ignore')"
   ]
  },
  {
   "cell_type": "code",
   "execution_count": 2,
   "metadata": {},
   "outputs": [],
   "source": [
    "year = '2018'\n",
    "pickle_path = '../../output/pickle/vhbb_official_v4/'+year+'/ParticleNet_msd.pkl'"
   ]
  },
  {
   "cell_type": "code",
   "execution_count": 3,
   "metadata": {},
   "outputs": [
    {
     "name": "stdout",
     "output_type": "stream",
     "text": [
      "0.988\n"
     ]
    }
   ],
   "source": [
    "ParticleNet_WorkingPoints = {\n",
    "    '2016APV_bb':    [0.0, 0.9088, 0.9737, 0.9883],\n",
    "    '2016APV_cc':    [0.0, 0.9252, 0.9751, 0.9909],\n",
    "\n",
    "    '2016_bb': [0.0, 0.9137, 0.9735, 0.9883],\n",
    "    '2016_cc': [0.0, 0.9252, 0.9743, 0.9905],\n",
    "\n",
    "    '2017_bb':    [0.0, 0.9105, 0.9714, 0.9870],\n",
    "    '2017_cc':    [0.0, 0.9347, 0.9765, 0.9909],\n",
    "\n",
    "    '2018_bb':    [0.0, 0.9172, 0.9734, 0.9880],\n",
    "    '2018_cc':    [0.0, 0.9368, 0.9777, 0.9917]\n",
    "}\n",
    "\n",
    "ddbthr = ParticleNet_WorkingPoints[year+'_bb'][-1]\n",
    "print(ddbthr)"
   ]
  },
  {
   "cell_type": "code",
   "execution_count": 4,
   "metadata": {},
   "outputs": [],
   "source": [
    "vh = pickle.load(open(pickle_path,'rb')).integrate('region','signal')"
   ]
  },
  {
   "cell_type": "code",
   "execution_count": 5,
   "metadata": {},
   "outputs": [],
   "source": [
    "vh_pass = vh.sum('pt1','msd2').integrate('bb1',int_range=slice(ddbthr,1))\n",
    "vh_fail = vh.sum('pt1','msd2').integrate('bb1',int_range=slice(0,ddbthr))"
   ]
  },
  {
   "cell_type": "code",
   "execution_count": 6,
   "metadata": {},
   "outputs": [
    {
     "ename": "TypeError",
     "evalue": "plot_syst_scalevar() missing 1 required positional argument: 'name'",
     "output_type": "error",
     "traceback": [
      "\u001b[0;31m---------------------------------------------------------------------------\u001b[0m",
      "\u001b[0;31mTypeError\u001b[0m                                 Traceback (most recent call last)",
      "Cell \u001b[0;32mIn[6], line 2\u001b[0m\n\u001b[1;32m      1\u001b[0m s \u001b[38;5;241m=\u001b[39m \u001b[38;5;124m'\u001b[39m\u001b[38;5;124mscalevar\u001b[39m\u001b[38;5;124m'\u001b[39m\n\u001b[0;32m----> 2\u001b[0m \u001b[43mplot_syst_scalevar\u001b[49m\u001b[43m(\u001b[49m\u001b[43mvh_pass\u001b[49m\u001b[43m,\u001b[49m\u001b[43m \u001b[49m\u001b[43myear\u001b[49m\u001b[38;5;241;43m+\u001b[39;49m\u001b[38;5;124;43m'\u001b[39;49m\u001b[38;5;124;43m \u001b[39;49m\u001b[38;5;124;43m'\u001b[39;49m\u001b[38;5;241;43m+\u001b[39;49m\u001b[43ms\u001b[49m\u001b[43m,\u001b[49m\u001b[43m \u001b[49m\u001b[43myear\u001b[49m\u001b[38;5;241;43m+\u001b[39;49m\u001b[38;5;124;43m'\u001b[39;49m\u001b[38;5;124;43m/sig_\u001b[39;49m\u001b[38;5;124;43m'\u001b[39;49m\u001b[38;5;241;43m+\u001b[39;49m\u001b[43ms\u001b[49m\u001b[38;5;241;43m+\u001b[39;49m\u001b[38;5;124;43m'\u001b[39;49m\u001b[38;5;124;43m_msd1\u001b[39;49m\u001b[38;5;124;43m'\u001b[39;49m\u001b[43m)\u001b[49m\n",
      "\u001b[0;31mTypeError\u001b[0m: plot_syst_scalevar() missing 1 required positional argument: 'name'"
     ]
    }
   ],
   "source": [
    "s = 'scalevar'\n",
    "plot_syst_scalevar(vh_pass, year+' '+s, year+'/sig_'+s+'_msd1')"
   ]
  },
  {
   "cell_type": "code",
   "execution_count": null,
   "metadata": {},
   "outputs": [],
   "source": [
    "s = 'PDFaS_weight'\n",
    "plot_syst_allsig(vh_pass, s, '$m_{sd}$ [GeV]', year+' '+s, year+'/bkg_'+s)"
   ]
  },
  {
   "cell_type": "code",
   "execution_count": null,
   "metadata": {},
   "outputs": [],
   "source": [
    "s = 'UEPS_ISR'\n",
    "plot_syst_allsig(vh_pass, s, '$m_{sd}$ [GeV]', year+' '+s, year+'/bkg_'+s)"
   ]
  },
  {
   "cell_type": "code",
   "execution_count": null,
   "metadata": {},
   "outputs": [],
   "source": [
    "s = 'UEPS_FSR'\n",
    "plot_syst_allsig(vh_pass, s, '$m_{sd}$ [GeV]', year+' '+s, year+'/bkg_'+s)"
   ]
  },
  {
   "cell_type": "code",
   "execution_count": null,
   "metadata": {},
   "outputs": [],
   "source": []
  }
 ],
 "metadata": {
  "kernelspec": {
   "display_name": "Python 3 (ipykernel)",
   "language": "python",
   "name": "python3"
  },
  "language_info": {
   "codemirror_mode": {
    "name": "ipython",
    "version": 3
   },
   "file_extension": ".py",
   "mimetype": "text/x-python",
   "name": "python",
   "nbconvert_exporter": "python",
   "pygments_lexer": "ipython3",
   "version": "3.8.15"
  }
 },
 "nbformat": 4,
 "nbformat_minor": 4
}
